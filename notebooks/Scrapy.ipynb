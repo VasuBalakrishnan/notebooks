{
 "cells": [
  {
   "cell_type": "code",
   "execution_count": 1,
   "metadata": {},
   "outputs": [],
   "source": [
    "import scrapy\n",
    "from scrapy.crawler import CrawlerRunner\n",
    "from scrapy.utils.log import configure_logging\n",
    "from twisted.internet import reactor\n",
    "import json\n",
    "import logging"
   ]
  },
  {
   "cell_type": "code",
   "execution_count": 2,
   "metadata": {},
   "outputs": [],
   "source": [
    "class QuotesSpider(scrapy.Spider):\n",
    "    name = \"quotes\"\n",
    "    start_urls = [\n",
    "        \"http://quotes.toscrape.com/page/1\",\n",
    "        \"http://quotes.toscrape.com/page/2\"\n",
    "    ]\n",
    "    \n",
    "    custom_settings = {\n",
    "        \"LOG_LEVEL\": logging.WARNING,\n",
    "        \"FEED_FORMAT\": \"json\",\n",
    "        \"FEED_URI\": \"./data/quoteresult.json\"\n",
    "    }\n",
    "    \n",
    "    def parse(self, response):\n",
    "        for quote in response.css('div.quote'):\n",
    "            yield {\n",
    "                'text': quote.css('span.text::text').extract_first(),\n",
    "                'author': quote.css('span small::text').extract_first(),\n",
    "                'tags': quote.css('div.tags a.tag::text').extract()\n",
    "            }"
   ]
  },
  {
   "cell_type": "code",
   "execution_count": 3,
   "metadata": {},
   "outputs": [],
   "source": [
    "def run_spider(spider):\n",
    "    configure_logging()\n",
    "    runner = CrawlerRunner()\n",
    "    runner.crawl(spider)\n",
    "    d = runner.join()\n",
    "    d.addBoth(lambda _: reactor.stop())\n",
    "    reactor.run()"
   ]
  },
  {
   "cell_type": "code",
   "execution_count": 4,
   "metadata": {},
   "outputs": [
    {
     "name": "stderr",
     "output_type": "stream",
     "text": [
      "2020-03-24 18:46:19 [scrapy.crawler] INFO: Overridden settings:\n",
      "{'FEED_FORMAT': 'json', 'FEED_URI': './data/quoteresult.json', 'LOG_LEVEL': 30}\n"
     ]
    }
   ],
   "source": [
    "run_spider(QuotesSpider)"
   ]
  },
  {
   "cell_type": "code",
   "execution_count": 5,
   "metadata": {},
   "outputs": [
    {
     "name": "stdout",
     "output_type": "stream",
     "text": [
      "total 16\n",
      "-rw-r--r--  1 nbvasu  staff  5573 Mar 24 18:46 quoteresult.json\n"
     ]
    }
   ],
   "source": [
    "ll data/"
   ]
  },
  {
   "cell_type": "code",
   "execution_count": 6,
   "metadata": {},
   "outputs": [
    {
     "name": "stdout",
     "output_type": "stream",
     "text": [
      "{\"text\": \"\\u201cA day without sunshine is like, you know, night.\\u201d\", \"author\": \"Steve Martin\", \"tags\": [\"humor\", \"obvious\", \"simile\"]}\n",
      "]"
     ]
    }
   ],
   "source": [
    "!tail -n 2 data/quoteresult.json"
   ]
  },
  {
   "cell_type": "code",
   "execution_count": 7,
   "metadata": {},
   "outputs": [],
   "source": [
    "import pandas as pd\n",
    "\n",
    "df = pd.read_json('data/quoteresult.json')"
   ]
  },
  {
   "cell_type": "code",
   "execution_count": 8,
   "metadata": {},
   "outputs": [
    {
     "data": {
      "text/html": [
       "<div>\n",
       "<style scoped>\n",
       "    .dataframe tbody tr th:only-of-type {\n",
       "        vertical-align: middle;\n",
       "    }\n",
       "\n",
       "    .dataframe tbody tr th {\n",
       "        vertical-align: top;\n",
       "    }\n",
       "\n",
       "    .dataframe thead th {\n",
       "        text-align: right;\n",
       "    }\n",
       "</style>\n",
       "<table border=\"1\" class=\"dataframe\">\n",
       "  <thead>\n",
       "    <tr style=\"text-align: right;\">\n",
       "      <th></th>\n",
       "      <th>text</th>\n",
       "      <th>author</th>\n",
       "      <th>tags</th>\n",
       "    </tr>\n",
       "  </thead>\n",
       "  <tbody>\n",
       "    <tr>\n",
       "      <th>0</th>\n",
       "      <td>“This life is what you make it. No matter what...</td>\n",
       "      <td>Marilyn Monroe</td>\n",
       "      <td>[friends, heartbreak, inspirational, life, lov...</td>\n",
       "    </tr>\n",
       "    <tr>\n",
       "      <th>1</th>\n",
       "      <td>“It takes a great deal of bravery to stand up ...</td>\n",
       "      <td>J.K. Rowling</td>\n",
       "      <td>[courage, friends]</td>\n",
       "    </tr>\n",
       "    <tr>\n",
       "      <th>2</th>\n",
       "      <td>“If you can't explain it to a six year old, yo...</td>\n",
       "      <td>Albert Einstein</td>\n",
       "      <td>[simplicity, understand]</td>\n",
       "    </tr>\n",
       "    <tr>\n",
       "      <th>3</th>\n",
       "      <td>“You may not be her first, her last, or her on...</td>\n",
       "      <td>Bob Marley</td>\n",
       "      <td>[love]</td>\n",
       "    </tr>\n",
       "    <tr>\n",
       "      <th>4</th>\n",
       "      <td>“I like nonsense, it wakes up the brain cells....</td>\n",
       "      <td>Dr. Seuss</td>\n",
       "      <td>[fantasy]</td>\n",
       "    </tr>\n",
       "    <tr>\n",
       "      <th>5</th>\n",
       "      <td>“I may not have gone where I intended to go, b...</td>\n",
       "      <td>Douglas Adams</td>\n",
       "      <td>[life, navigation]</td>\n",
       "    </tr>\n",
       "    <tr>\n",
       "      <th>6</th>\n",
       "      <td>“The opposite of love is not hate, it's indiff...</td>\n",
       "      <td>Elie Wiesel</td>\n",
       "      <td>[activism, apathy, hate, indifference, inspira...</td>\n",
       "    </tr>\n",
       "    <tr>\n",
       "      <th>7</th>\n",
       "      <td>“It is not a lack of love, but a lack of frien...</td>\n",
       "      <td>Friedrich Nietzsche</td>\n",
       "      <td>[friendship, lack-of-friendship, lack-of-love,...</td>\n",
       "    </tr>\n",
       "    <tr>\n",
       "      <th>8</th>\n",
       "      <td>“Good friends, good books, and a sleepy consci...</td>\n",
       "      <td>Mark Twain</td>\n",
       "      <td>[books, contentment, friends, friendship, life]</td>\n",
       "    </tr>\n",
       "    <tr>\n",
       "      <th>9</th>\n",
       "      <td>“Life is what happens to us while we are makin...</td>\n",
       "      <td>Allen Saunders</td>\n",
       "      <td>[fate, life, misattributed-john-lennon, planni...</td>\n",
       "    </tr>\n",
       "    <tr>\n",
       "      <th>10</th>\n",
       "      <td>“The world as we have created it is a process ...</td>\n",
       "      <td>Albert Einstein</td>\n",
       "      <td>[change, deep-thoughts, thinking, world]</td>\n",
       "    </tr>\n",
       "    <tr>\n",
       "      <th>11</th>\n",
       "      <td>“It is our choices, Harry, that show what we t...</td>\n",
       "      <td>J.K. Rowling</td>\n",
       "      <td>[abilities, choices]</td>\n",
       "    </tr>\n",
       "    <tr>\n",
       "      <th>12</th>\n",
       "      <td>“There are only two ways to live your life. On...</td>\n",
       "      <td>Albert Einstein</td>\n",
       "      <td>[inspirational, life, live, miracle, miracles]</td>\n",
       "    </tr>\n",
       "    <tr>\n",
       "      <th>13</th>\n",
       "      <td>“The person, be it gentleman or lady, who has ...</td>\n",
       "      <td>Jane Austen</td>\n",
       "      <td>[aliteracy, books, classic, humor]</td>\n",
       "    </tr>\n",
       "    <tr>\n",
       "      <th>14</th>\n",
       "      <td>“Imperfection is beauty, madness is genius and...</td>\n",
       "      <td>Marilyn Monroe</td>\n",
       "      <td>[be-yourself, inspirational]</td>\n",
       "    </tr>\n",
       "    <tr>\n",
       "      <th>15</th>\n",
       "      <td>“Try not to become a man of success. Rather be...</td>\n",
       "      <td>Albert Einstein</td>\n",
       "      <td>[adulthood, success, value]</td>\n",
       "    </tr>\n",
       "    <tr>\n",
       "      <th>16</th>\n",
       "      <td>“It is better to be hated for what you are tha...</td>\n",
       "      <td>André Gide</td>\n",
       "      <td>[life, love]</td>\n",
       "    </tr>\n",
       "    <tr>\n",
       "      <th>17</th>\n",
       "      <td>“I have not failed. I've just found 10,000 way...</td>\n",
       "      <td>Thomas A. Edison</td>\n",
       "      <td>[edison, failure, inspirational, paraphrased]</td>\n",
       "    </tr>\n",
       "    <tr>\n",
       "      <th>18</th>\n",
       "      <td>“A woman is like a tea bag; you never know how...</td>\n",
       "      <td>Eleanor Roosevelt</td>\n",
       "      <td>[misattributed-eleanor-roosevelt]</td>\n",
       "    </tr>\n",
       "    <tr>\n",
       "      <th>19</th>\n",
       "      <td>“A day without sunshine is like, you know, nig...</td>\n",
       "      <td>Steve Martin</td>\n",
       "      <td>[humor, obvious, simile]</td>\n",
       "    </tr>\n",
       "  </tbody>\n",
       "</table>\n",
       "</div>"
      ],
      "text/plain": [
       "                                                 text               author  \\\n",
       "0   “This life is what you make it. No matter what...       Marilyn Monroe   \n",
       "1   “It takes a great deal of bravery to stand up ...         J.K. Rowling   \n",
       "2   “If you can't explain it to a six year old, yo...      Albert Einstein   \n",
       "3   “You may not be her first, her last, or her on...           Bob Marley   \n",
       "4   “I like nonsense, it wakes up the brain cells....            Dr. Seuss   \n",
       "5   “I may not have gone where I intended to go, b...        Douglas Adams   \n",
       "6   “The opposite of love is not hate, it's indiff...          Elie Wiesel   \n",
       "7   “It is not a lack of love, but a lack of frien...  Friedrich Nietzsche   \n",
       "8   “Good friends, good books, and a sleepy consci...           Mark Twain   \n",
       "9   “Life is what happens to us while we are makin...       Allen Saunders   \n",
       "10  “The world as we have created it is a process ...      Albert Einstein   \n",
       "11  “It is our choices, Harry, that show what we t...         J.K. Rowling   \n",
       "12  “There are only two ways to live your life. On...      Albert Einstein   \n",
       "13  “The person, be it gentleman or lady, who has ...          Jane Austen   \n",
       "14  “Imperfection is beauty, madness is genius and...       Marilyn Monroe   \n",
       "15  “Try not to become a man of success. Rather be...      Albert Einstein   \n",
       "16  “It is better to be hated for what you are tha...           André Gide   \n",
       "17  “I have not failed. I've just found 10,000 way...     Thomas A. Edison   \n",
       "18  “A woman is like a tea bag; you never know how...    Eleanor Roosevelt   \n",
       "19  “A day without sunshine is like, you know, nig...         Steve Martin   \n",
       "\n",
       "                                                 tags  \n",
       "0   [friends, heartbreak, inspirational, life, lov...  \n",
       "1                                  [courage, friends]  \n",
       "2                            [simplicity, understand]  \n",
       "3                                              [love]  \n",
       "4                                           [fantasy]  \n",
       "5                                  [life, navigation]  \n",
       "6   [activism, apathy, hate, indifference, inspira...  \n",
       "7   [friendship, lack-of-friendship, lack-of-love,...  \n",
       "8     [books, contentment, friends, friendship, life]  \n",
       "9   [fate, life, misattributed-john-lennon, planni...  \n",
       "10           [change, deep-thoughts, thinking, world]  \n",
       "11                               [abilities, choices]  \n",
       "12     [inspirational, life, live, miracle, miracles]  \n",
       "13                 [aliteracy, books, classic, humor]  \n",
       "14                       [be-yourself, inspirational]  \n",
       "15                        [adulthood, success, value]  \n",
       "16                                       [life, love]  \n",
       "17      [edison, failure, inspirational, paraphrased]  \n",
       "18                  [misattributed-eleanor-roosevelt]  \n",
       "19                           [humor, obvious, simile]  "
      ]
     },
     "execution_count": 8,
     "metadata": {},
     "output_type": "execute_result"
    }
   ],
   "source": [
    "df"
   ]
  },
  {
   "cell_type": "code",
   "execution_count": 9,
   "metadata": {},
   "outputs": [],
   "source": [
    "df.to_pickle('data/quotejson.pickle')"
   ]
  },
  {
   "cell_type": "code",
   "execution_count": 10,
   "metadata": {},
   "outputs": [
    {
     "name": "stdout",
     "output_type": "stream",
     "text": [
      "total 32\n",
      "-rw-r--r--  1 nbvasu  staff  5491 Mar 24 18:46 quotejson.pickle\n",
      "-rw-r--r--  1 nbvasu  staff  5573 Mar 24 18:46 quoteresult.json\n"
     ]
    }
   ],
   "source": [
    "ll data/"
   ]
  },
  {
   "cell_type": "code",
   "execution_count": null,
   "metadata": {},
   "outputs": [],
   "source": []
  }
 ],
 "metadata": {
  "kernelspec": {
   "display_name": "Python 3",
   "language": "python",
   "name": "python3"
  },
  "language_info": {
   "codemirror_mode": {
    "name": "ipython",
    "version": 3
   },
   "file_extension": ".py",
   "mimetype": "text/x-python",
   "name": "python",
   "nbconvert_exporter": "python",
   "pygments_lexer": "ipython3",
   "version": "3.7.3"
  }
 },
 "nbformat": 4,
 "nbformat_minor": 4
}
