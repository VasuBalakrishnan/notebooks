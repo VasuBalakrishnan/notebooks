{
 "cells": [
  {
   "cell_type": "markdown",
   "metadata": {},
   "source": [
    "# Jinja Demo\n",
    "\n",
    "Jinja is a templating language for Python, modelled after Django's templates. Here are some examples of how to use it"
   ]
  },
  {
   "cell_type": "code",
   "execution_count": 27,
   "metadata": {},
   "outputs": [],
   "source": [
    "import os\n",
    "from jinja2 import Template, FileSystemLoader, Environment\n",
    "from IPython.display import HTML\n",
    "\n",
    "templates_dir = (os.path.join(os.path.dirname(__file__), 'templates') if '__file__' in locals() else 'templates')\n",
    "\n",
    "# Setup File System Loader and Environment\n",
    "loader = FileSystemLoader(searchpath=templates_dir)\n",
    "env = Environment(loader=loader)"
   ]
  },
  {
   "cell_type": "markdown",
   "metadata": {},
   "source": [
    "## Load a template file and render"
   ]
  },
  {
   "cell_type": "code",
   "execution_count": 32,
   "metadata": {},
   "outputs": [
    {
     "data": {
      "text/html": [
       "<!DOCTYPE html>\n",
       "<html lang=\"en\">\n",
       "<head>\n",
       "    \n",
       "    \n",
       "    <link rel=\"stylesheet\" href=\"style.css\" />\n",
       "    <title>Index - My Webpage</title>\n",
       "    \n",
       "    <style type=\"text/css\">\n",
       "        .important { color: #336699; }\n",
       "    </style>\n",
       "\n",
       "</head>\n",
       "<body>\n",
       "    <div id=\"content\">\n",
       "    <h1>Index</h1>\n",
       "    <p class=\"important\">\n",
       "      Welcome to my awesome homepage.\n",
       "    </p>\n",
       "</div>\n",
       "    <div id=\"footer\">\n",
       "        \n",
       "        &copy; Copyright 2008 by <a href=\"http://domain.invalid/\">you</a>.\n",
       "        \n",
       "    </div>\n",
       "</body>\n",
       "</html>"
      ],
      "text/plain": [
       "<IPython.core.display.HTML object>"
      ]
     },
     "execution_count": 32,
     "metadata": {},
     "output_type": "execute_result"
    }
   ],
   "source": [
    "template = env.get_template('child.tpl')\n",
    "output = template.render()\n",
    "HTML(output)"
   ]
  },
  {
   "cell_type": "code",
   "execution_count": null,
   "metadata": {},
   "outputs": [],
   "source": []
  }
 ],
 "metadata": {
  "kernelspec": {
   "display_name": "Python 3",
   "language": "python",
   "name": "python3"
  },
  "language_info": {
   "codemirror_mode": {
    "name": "ipython",
    "version": 3
   },
   "file_extension": ".py",
   "mimetype": "text/x-python",
   "name": "python",
   "nbconvert_exporter": "python",
   "pygments_lexer": "ipython3",
   "version": "3.7.3"
  }
 },
 "nbformat": 4,
 "nbformat_minor": 4
}
