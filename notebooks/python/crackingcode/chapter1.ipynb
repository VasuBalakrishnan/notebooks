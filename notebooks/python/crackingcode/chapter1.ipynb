{
 "cells": [
  {
   "cell_type": "code",
   "execution_count": 17,
   "metadata": {},
   "outputs": [],
   "source": [
    "import collections"
   ]
  },
  {
   "cell_type": "markdown",
   "metadata": {},
   "source": [
    "# Chapter 1 - Arrays and Strings"
   ]
  },
  {
   "cell_type": "markdown",
   "metadata": {},
   "source": [
    "## 1.1 Is Unique"
   ]
  },
  {
   "cell_type": "code",
   "execution_count": 2,
   "metadata": {},
   "outputs": [
    {
     "name": "stdout",
     "output_type": "stream",
     "text": [
      "test =>  False\n",
      "abcde =>  True\n"
     ]
    }
   ],
   "source": [
    "def isUniqueV1(s: str) -> bool:\n",
    "    seen = set()\n",
    "    for ch in s:\n",
    "        if ch in seen:\n",
    "            return False\n",
    "        seen.add(ch)\n",
    "    return True\n",
    "\n",
    "\n",
    "print('test => ', isUniqueV1('test'))\n",
    "print('abcde => ', isUniqueV1('abcde'))"
   ]
  },
  {
   "cell_type": "code",
   "execution_count": 9,
   "metadata": {},
   "outputs": [
    {
     "name": "stdout",
     "output_type": "stream",
     "text": [
      "test =>  False\n",
      "abcde =>  True\n"
     ]
    }
   ],
   "source": [
    "def isUniqueV2(s: str) -> bool:\n",
    "    checker = 0\n",
    "    for ch in s:\n",
    "        val = ord(ch) - ord('a')\n",
    "        if checker & (1 << val) > 0:\n",
    "            return False\n",
    "        checker = checker | (1 << val)\n",
    "    return True\n",
    "\n",
    "\n",
    "print('test => ', isUniqueV2('test'))\n",
    "print('abcde => ', isUniqueV2('abcde'))"
   ]
  },
  {
   "cell_type": "markdown",
   "metadata": {},
   "source": [
    "## 1.2 Check Permutation"
   ]
  },
  {
   "cell_type": "code",
   "execution_count": 14,
   "metadata": {},
   "outputs": [
    {
     "name": "stdout",
     "output_type": "stream",
     "text": [
      "dog vs god True\n",
      "Dog vs god False\n"
     ]
    }
   ],
   "source": [
    "def isPermutationV1(s, t):\n",
    "    if len(s) != len(t):\n",
    "        return False\n",
    "    return sorted(s) == sorted(t)\n",
    "\n",
    "print('dog vs god', isPermutationV1('dog', 'god'))\n",
    "print('Dog vs god', isPermutationV1('Dog', 'god'))"
   ]
  },
  {
   "cell_type": "code",
   "execution_count": 27,
   "metadata": {},
   "outputs": [
    {
     "name": "stdout",
     "output_type": "stream",
     "text": [
      "dog vs god True\n",
      "doag vs good False\n",
      "Dog vs god False\n"
     ]
    }
   ],
   "source": [
    "def isPermutationV2(s, t):\n",
    "    if len(s) != len(t):\n",
    "        return False\n",
    "    s_counts = collections.Counter(s)\n",
    "    t_counts = collections.Counter(t)\n",
    "    return s_counts == t_counts\n",
    "\n",
    "print('dog vs god', isPermutationV2('dog', 'god'))\n",
    "print('doag vs good', isPermutationV2('doag', 'good'))\n",
    "print('Dog vs god', isPermutationV2('Dog', 'god'))"
   ]
  },
  {
   "cell_type": "markdown",
   "metadata": {},
   "source": [
    "## 1.4 Palindrome Permutation"
   ]
  },
  {
   "cell_type": "code",
   "execution_count": 48,
   "metadata": {},
   "outputs": [
    {
     "name": "stdout",
     "output_type": "stream",
     "text": [
      "dog False\n",
      "malayalam True\n",
      "permutation(dog) ['dog', 'dgo', 'odg', 'ogd', 'gdo', 'god']\n"
     ]
    }
   ],
   "source": [
    "def isPalindrome(s):\n",
    "    temp = s.lower().replace(' ', '')\n",
    "    return temp.lower() == temp[::-1]\n",
    "\n",
    "def permutation(s, res = [], prefix = '', ):\n",
    "    if len(s) == 0:\n",
    "        res.append(prefix)\n",
    "        return\n",
    "    \n",
    "    for i in range(len(s)):\n",
    "        rem = s[:i] + s[i+1:]\n",
    "        permutation(rem, res, prefix + s[i])\n",
    "        \n",
    "print('dog', isPalindrome('dog'))\n",
    "print('malayalam', isPalindrome('malayalam'))\n",
    "\n",
    "res = []\n",
    "permutation('dog', res)\n",
    "print('permutation(dog)', res)"
   ]
  },
  {
   "cell_type": "code",
   "execution_count": 47,
   "metadata": {},
   "outputs": [
    {
     "name": "stdout",
     "output_type": "stream",
     "text": [
      "False\n",
      "True\n"
     ]
    }
   ],
   "source": [
    "def isPermutationOfPalindrome(phrase):\n",
    "    \n",
    "    def buildFrequencyTable(phrase):\n",
    "        table = collections.Counter([ch for ch in phrase if ch.isalpha()])\n",
    "        return table\n",
    "    \n",
    "    def checkMaxOneOdd(table):\n",
    "        found = False\n",
    "        for k, v in table.items():\n",
    "            if v % 2 == 1:\n",
    "                if found:\n",
    "                    return False\n",
    "                found = True\n",
    "        return True\n",
    "    \n",
    "    table = buildFrequencyTable(phrase)\n",
    "    return checkMaxOneOdd(table)\n",
    "\n",
    "    \n",
    "print(isPermutationOfPalindrome('Taco cat'))\n",
    "print(isPermutationOfPalindrome('MALA YALAM'))"
   ]
  },
  {
   "cell_type": "code",
   "execution_count": 53,
   "metadata": {},
   "outputs": [
    {
     "name": "stdout",
     "output_type": "stream",
     "text": [
      "True\n"
     ]
    }
   ],
   "source": [
    "def isPermutationOfPalindromeV2(phrase):\n",
    "    \n",
    "    table = [0] * 27\n",
    "    oddCount = 0\n",
    "    \n",
    "    for ch in phrase.lower():\n",
    "        if ch.isalpha():\n",
    "            val = ord(ch) - ord('a')\n",
    "            table[val] += 1\n",
    "            if table[val] % 2 == 1:\n",
    "                oddCount += 1\n",
    "            else:\n",
    "                oddCount -= 1\n",
    "                \n",
    "    return oddCount <= 1\n",
    "\n",
    "print(isPermutationOfPalindromeV2('MALA YALAM'))"
   ]
  },
  {
   "cell_type": "code",
   "execution_count": 56,
   "metadata": {},
   "outputs": [
    {
     "name": "stdout",
     "output_type": "stream",
     "text": [
      "True\n"
     ]
    }
   ],
   "source": [
    "def isPermutationOfPalindromeV3(phrase):\n",
    "    \n",
    "    def toggle(bitVector, index):\n",
    "        if index < 0:\n",
    "            return bitVector\n",
    "        return bitVector ^ (1 << (index - 1))\n",
    "    \n",
    "    def createBitVector(phrase):\n",
    "        bitVector = 0\n",
    "        for ch in phrase:\n",
    "            val = ord(ch) - ord('a')\n",
    "            bitVector = toggle(bitVector, val)\n",
    "            \n",
    "        return bitVector\n",
    "    \n",
    "    def checkExactlyOneBitSet(bitVector):\n",
    "        return (bitVector & (bitVector - 1)) == 0\n",
    "    \n",
    "    bitVector = createBitVector(phrase)\n",
    "    return bitVector == 0 or checkExactlyOneBitSet(bitVector)\n",
    "\n",
    "print(isPermutationOfPalindromeV3('MALA YALAM'))"
   ]
  },
  {
   "cell_type": "markdown",
   "metadata": {},
   "source": [
    "## 1.5 One Away"
   ]
  },
  {
   "cell_type": "code",
   "execution_count": 75,
   "metadata": {},
   "outputs": [
    {
     "name": "stdout",
     "output_type": "stream",
     "text": [
      "True\n",
      "True\n",
      "True\n",
      "False\n"
     ]
    }
   ],
   "source": [
    "def isOneEditAway(s, t):\n",
    "    table_s = collections.Counter(s)\n",
    "\n",
    "    for ch in t:\n",
    "        if ch in table_s:\n",
    "            table_s[ch] -= 1\n",
    "        else:\n",
    "            table_s[ch] += 1\n",
    "    \n",
    "    return sum(v for k, v in table_s.items() if v != 0) <= 2\n",
    "\n",
    "print(isOneEditAway('pale', 'ple'))\n",
    "print(isOneEditAway('pales', 'pale'))\n",
    "print(isOneEditAway('pale', 'bale'))\n",
    "print(isOneEditAway('pale', 'bae'))"
   ]
  },
  {
   "cell_type": "code",
   "execution_count": 105,
   "metadata": {},
   "outputs": [],
   "source": [
    "def editDistance(s, t, m, n):\n",
    "    if min(m, n) == 0: # when one string is empty and other is not\n",
    "        return max(m, n)\n",
    "\n",
    "    if s[m-1] == t[n-1]: # when end characters match\n",
    "        return editDistance(s, t, m - 1, n - 1)\n",
    "\n",
    "    return 1 + min(min(editDistance(s, t, m, n - 1), # Remove one char from t\n",
    "                   editDistance(s, t, m - 1, n)), # Remove one char from s\n",
    "                editDistance(s, t, m - 1, n - 1)) # Replace one char \n",
    "\n",
    "def editDistanceV1(s, t, m , n):\n",
    "    if min(m, n) == 0:\n",
    "        return max(m, n)\n",
    "    \n",
    "    if s[m-1] == t[n-1]:\n",
    "        cost = 0\n",
    "    else:\n",
    "        cost = 1\n",
    "        \n",
    "    return min(min(editDistanceV1(s, t, m, n-1) + 1,\n",
    "                   editDistanceV1(s, t, m-1, n) + 1),\n",
    "               editDistanceV1(s, t, m-1,n-1) + cost)\n",
    "\n",
    "def editDistanceDP(s, t, m, n):\n",
    "    \n",
    "    T = [[0 for j in range(n + 1)] for i in range(m + 1)]\n",
    "    \n",
    "    for i in range(m + 1):\n",
    "        T[i][0] = i\n",
    "        \n",
    "    for i in range(n + 1):\n",
    "        T[0][i] = i\n",
    "        \n",
    "    for i in range(1, m + 1):\n",
    "        for j in range(1, n + 1):\n",
    "            if s[i-1] == t[j-1]:\n",
    "                cost = 0\n",
    "            else:\n",
    "                cost = 1\n",
    "                \n",
    "            T[i][j] = min(min(T[i][j-1]+1, T[i-1][j] + 1), T[i-1][j-1] + cost)\n",
    "\n",
    "    return T[m][n]"
   ]
  },
  {
   "cell_type": "code",
   "execution_count": 106,
   "metadata": {},
   "outputs": [
    {
     "name": "stdout",
     "output_type": "stream",
     "text": [
      "recursion\n",
      "1\n",
      "1\n",
      "1\n",
      "2\n",
      "recursion optimized\n",
      "1\n",
      "1\n",
      "1\n",
      "2\n",
      "DP\n",
      "1\n",
      "1\n",
      "1\n",
      "2\n"
     ]
    }
   ],
   "source": [
    "def isOneEditAwayV2(s, t):\n",
    "    return editDistance(s, t, len(s), len(t))\n",
    "\n",
    "def isOneEditAwayV3(s, t):\n",
    "    return editDistanceV1(s, t, len(s), len(t))\n",
    "\n",
    "def isOneEditAwayV4(s, t):\n",
    "    return editDistanceDP(s, t, len(s), len(t))\n",
    "\n",
    "print('recursion')\n",
    "print(isOneEditAwayV2('pale', 'ple'))\n",
    "print(isOneEditAwayV2('pales', 'pale'))\n",
    "print(isOneEditAwayV2('pale', 'bale'))\n",
    "print(isOneEditAwayV2('pale', 'bae'))\n",
    "\n",
    "print('recursion optimized')\n",
    "print(isOneEditAwayV3('pale', 'ple'))\n",
    "print(isOneEditAwayV3('pales', 'pale'))\n",
    "print(isOneEditAwayV3('pale', 'bale'))\n",
    "print(isOneEditAwayV3('pale', 'bae'))\n",
    "\n",
    "print('DP')\n",
    "print(isOneEditAwayV4('pale', 'ple'))\n",
    "print(isOneEditAwayV4('pales', 'pale'))\n",
    "print(isOneEditAwayV4('pale', 'bale'))\n",
    "print(isOneEditAwayV4('pale', 'bae'))"
   ]
  },
  {
   "cell_type": "markdown",
   "metadata": {},
   "source": [
    "## 1.6 String Compression"
   ]
  },
  {
   "cell_type": "code",
   "execution_count": 131,
   "metadata": {},
   "outputs": [
    {
     "name": "stdout",
     "output_type": "stream",
     "text": [
      "a2b1c5a3\n",
      "a2b1c5a3\n"
     ]
    }
   ],
   "source": [
    "def compress(s):\n",
    "    \n",
    "    n = len(s) - 1\n",
    "    index = n\n",
    "    count = 0\n",
    "    stack = []\n",
    "    while index >= 0:\n",
    "        if index == n:\n",
    "            curr = prev = s[index]\n",
    "            count = 0\n",
    "        else:\n",
    "            curr = s[index]\n",
    "            \n",
    "        if curr != prev:\n",
    "            stack.append(prev + f'{count}')\n",
    "            count = 1\n",
    "            prev = curr\n",
    "        else:\n",
    "            count += 1\n",
    "        index -= 1\n",
    "\n",
    "    stack.append(curr + f'{count}')\n",
    "    result = \"\".join(stack[::-1])\n",
    "    return result if len(result) < n else s\n",
    "\n",
    "def compressV1(s):\n",
    "    n = len(s)\n",
    "    stack = []\n",
    "    count = 0\n",
    "    \n",
    "    for i in range(n):\n",
    "        count += 1\n",
    "        \n",
    "        if i + 1 >= n or s[i] != s[i+1]:\n",
    "            stack.append(s[i] + f'{count}')\n",
    "            count = 0\n",
    "            \n",
    "    result = \"\".join(stack)\n",
    "    return result if len(result) < n else s\n",
    "\n",
    "print(compress('aabcccccaaa'))\n",
    "print(compressV1('aabcccccaaa'))"
   ]
  },
  {
   "cell_type": "markdown",
   "metadata": {},
   "source": [
    "## 1.7 Rotate Matrix"
   ]
  },
  {
   "cell_type": "code",
   "execution_count": 147,
   "metadata": {},
   "outputs": [
    {
     "name": "stdout",
     "output_type": "stream",
     "text": [
      "[[2, 9, 64], [3, 16, 125], [4, 25, 216]]\n",
      "[[4, 3, 2], [25, 16, 9], [216, 125, 64]]\n"
     ]
    }
   ],
   "source": [
    "def rotateMatrix(mat):\n",
    "    \n",
    "    def transpose(mat):\n",
    "        for i in range(len(mat)):\n",
    "            for j in range(i+1, len(mat[0])):\n",
    "                mat[i][j], mat[j][i] = mat[j][i], mat[i][j]\n",
    "    \n",
    "    def reverse(mat):\n",
    "        for i in range(len(mat)):\n",
    "            mat[i].reverse()\n",
    "    \n",
    "    transpose(mat)\n",
    "    reverse(mat)\n",
    "\n",
    "\n",
    "mat = [[((i+j)**j) for j in range(1, 4)] for i in range(1, 4)]\n",
    "\n",
    "print(mat)\n",
    "\n",
    "rotateMatrix(mat)\n",
    "print(mat)"
   ]
  },
  {
   "cell_type": "markdown",
   "metadata": {},
   "source": [
    "## 1.8 Zero Matrix"
   ]
  },
  {
   "cell_type": "code",
   "execution_count": 4,
   "metadata": {},
   "outputs": [
    {
     "name": "stdout",
     "output_type": "stream",
     "text": [
      "[[1, 0, 1], [2, 3, 0], [1, 2, 1]]\n",
      "[[0, 0, 0], [0, 0, 0], [1, 0, 0]]\n"
     ]
    }
   ],
   "source": [
    "def zeroMatrix(mat):\n",
    "    \n",
    "    def markRowAndColumn(r, c, val = 0):\n",
    "        for i in range(len(mat)):\n",
    "            for j in range(len(mat[0])):\n",
    "                if i == r or j == c:\n",
    "                    mat[i][j] = val\n",
    "                    \n",
    "    for i in range(len(mat)):\n",
    "        for j in range(len(mat[0])):\n",
    "            if mat[i][j] == 0:\n",
    "                markRowAndColumn(i, j, -1)\n",
    "                \n",
    "    for i in range(len(mat)):\n",
    "        for j in range(len(mat[0])):\n",
    "            if mat[i][j] == -1:\n",
    "                mat[i][j] = 0\n",
    "                \n",
    "                \n",
    "\n",
    "mat = [[1,0,1], [2,3,0],[1,2,1]]\n",
    "print(mat)\n",
    "zeroMatrix(mat)\n",
    "print(mat)"
   ]
  },
  {
   "cell_type": "markdown",
   "metadata": {},
   "source": [
    "## 1.9 String Rotation"
   ]
  },
  {
   "cell_type": "code",
   "execution_count": 1,
   "metadata": {},
   "outputs": [
    {
     "name": "stdout",
     "output_type": "stream",
     "text": [
      "True\n"
     ]
    }
   ],
   "source": [
    "def isRotation(s1, s2):\n",
    "    return s1 in s2 + s2\n",
    "\n",
    "print(isRotation('waterbottle', 'erbottlewat'))\n",
    "    "
   ]
  },
  {
   "cell_type": "code",
   "execution_count": null,
   "metadata": {},
   "outputs": [],
   "source": []
  }
 ],
 "metadata": {
  "kernelspec": {
   "display_name": "Python 3",
   "language": "python",
   "name": "python3"
  },
  "language_info": {
   "codemirror_mode": {
    "name": "ipython",
    "version": 3
   },
   "file_extension": ".py",
   "mimetype": "text/x-python",
   "name": "python",
   "nbconvert_exporter": "python",
   "pygments_lexer": "ipython3",
   "version": "3.7.3"
  }
 },
 "nbformat": 4,
 "nbformat_minor": 4
}
