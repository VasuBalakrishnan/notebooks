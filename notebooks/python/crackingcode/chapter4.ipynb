{
 "cells": [
  {
   "cell_type": "markdown",
   "metadata": {},
   "source": [
    "# Chapter 4 - Trees and Graphs"
   ]
  },
  {
   "cell_type": "code",
   "execution_count": 52,
   "metadata": {},
   "outputs": [],
   "source": [
    "import collections\n",
    "import json\n",
    "\n",
    "class Node(object):\n",
    "    def __init__(self, val):\n",
    "        self.val = val\n",
    "        self.left = None\n",
    "        self.right = None\n",
    "        \n",
    "class Graph(object):\n",
    "    def __init__(self):\n",
    "        self.graph = collections.defaultdict(list)\n",
    "        \n",
    "    def __str__(self):\n",
    "        return f\"{self.graph}\"\n",
    "    \n",
    "    def addEdge(self, s, d):\n",
    "        self.graph[s].append(d)\n",
    "        \n",
    "def buildGraph(input):\n",
    "    g = Graph()\n",
    "    for item in input:\n",
    "        g.addEdge(item[0], item[1])\n",
    "            \n",
    "    return g"
   ]
  },
  {
   "cell_type": "markdown",
   "metadata": {},
   "source": [
    "## 4.1 Route Between Nodes"
   ]
  },
  {
   "cell_type": "code",
   "execution_count": 53,
   "metadata": {},
   "outputs": [
    {
     "name": "stdout",
     "output_type": "stream",
     "text": [
      "defaultdict(<class 'list'>, {1: [2, 3], 2: [1, 3], 3: [1, 2, 4], 4: [3]})\n",
      "True\n"
     ]
    }
   ],
   "source": [
    "def search(graph, start, end):\n",
    "    \n",
    "    visited = {}\n",
    "    for v in graph.graph:\n",
    "        visited[v] = False\n",
    "        \n",
    "    q = collections.deque([])\n",
    "    q.append(start)\n",
    "    visited[start] = True\n",
    "    \n",
    "    while q:\n",
    "        curr = q.popleft()\n",
    "        for node in graph.graph[curr]:\n",
    "            if node == end:\n",
    "                return True\n",
    "            \n",
    "            if node in visited and not visited[node]:\n",
    "                q.append(node)\n",
    "                visited[node] = True\n",
    "    \n",
    "    return False \n",
    "\n",
    "g = buildGraph([[1,2], [1,3], [2,1], [2,3], [3,1], [3,2], [3,4], [4,3]])\n",
    "print(g)\n",
    "print(search(g, 1, 4))"
   ]
  },
  {
   "cell_type": "markdown",
   "metadata": {},
   "source": [
    "## 4.2 Minimal Tree"
   ]
  },
  {
   "cell_type": "code",
   "execution_count": 56,
   "metadata": {},
   "outputs": [
    {
     "name": "stdout",
     "output_type": "stream",
     "text": [
      "<__main__.Node object at 0x10fed70b8>\n"
     ]
    }
   ],
   "source": [
    "def createMinimalBST(array, start, end):\n",
    "        \n",
    "    if start > end:\n",
    "        return None\n",
    "    \n",
    "    mid = (start + end) // 2\n",
    "#     print(start, end, mid, array[mid])\n",
    "    n = Node(array[mid])\n",
    "    n.left = createMinimalBST(array, start, mid - 1)\n",
    "    n.right = createMinimalBST(array, mid + 1, end)\n",
    "    return n\n",
    "\n",
    "def buildMinimalBST(array):\n",
    "    return createMinimalBST(array, 0, len(array) - 1)\n",
    "\n",
    "\n",
    "arr = [1, 2, 3, 4, 5, 6, 7, 8]\n",
    "tree = buildMinimalBST(arr)\n",
    "\n",
    "\n",
    "print(tree)"
   ]
  },
  {
   "cell_type": "code",
   "execution_count": null,
   "metadata": {},
   "outputs": [],
   "source": []
  }
 ],
 "metadata": {
  "kernelspec": {
   "display_name": "Python 3",
   "language": "python",
   "name": "python3"
  },
  "language_info": {
   "codemirror_mode": {
    "name": "ipython",
    "version": 3
   },
   "file_extension": ".py",
   "mimetype": "text/x-python",
   "name": "python",
   "nbconvert_exporter": "python",
   "pygments_lexer": "ipython3",
   "version": "3.7.3"
  }
 },
 "nbformat": 4,
 "nbformat_minor": 4
}
