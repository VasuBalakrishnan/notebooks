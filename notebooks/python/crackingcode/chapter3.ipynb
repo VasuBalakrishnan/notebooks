{
 "cells": [
  {
   "cell_type": "markdown",
   "metadata": {},
   "source": [
    "# Chapter 3: Stacks and Queues"
   ]
  },
  {
   "cell_type": "markdown",
   "metadata": {},
   "source": [
    "## 3.1 Three in One"
   ]
  },
  {
   "cell_type": "code",
   "execution_count": null,
   "metadata": {},
   "outputs": [],
   "source": [
    "class ThreeInOneStack(object):\n",
    "    def __init__():\n",
    "        self.stack = []\n",
    "        \n",
    "    def push(stackId, val):\n",
    "        pass\n",
    "    \n",
    "    def pop(stackId):\n",
    "        pass\n",
    "    \n",
    "    def top(stackId):\n",
    "        pass\n",
    "    \n",
    "    def isEmpty(stackId):\n",
    "        pass\n"
   ]
  }
 ],
 "metadata": {
  "kernelspec": {
   "display_name": "Python 3",
   "language": "python",
   "name": "python3"
  },
  "language_info": {
   "codemirror_mode": {
    "name": "ipython",
    "version": 3
   },
   "file_extension": ".py",
   "mimetype": "text/x-python",
   "name": "python",
   "nbconvert_exporter": "python",
   "pygments_lexer": "ipython3",
   "version": "3.7.3"
  }
 },
 "nbformat": 4,
 "nbformat_minor": 4
}
