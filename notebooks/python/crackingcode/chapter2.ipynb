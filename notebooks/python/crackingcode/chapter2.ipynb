{
 "cells": [
  {
   "cell_type": "code",
   "execution_count": 1,
   "metadata": {},
   "outputs": [],
   "source": [
    "import collections"
   ]
  },
  {
   "cell_type": "markdown",
   "metadata": {},
   "source": [
    "# Chapter 2 - Linked Lists"
   ]
  },
  {
   "cell_type": "code",
   "execution_count": 11,
   "metadata": {},
   "outputs": [],
   "source": [
    "class ListNode(object):\n",
    "    def __init__(self, val):\n",
    "        self.val = val\n",
    "        self.next = None\n",
    "        \n",
    "    def __str__(self):\n",
    "        return f\"{self.val} -> {self.next}\"\n",
    "        \n",
    "def buildList(input):\n",
    "    dummy = ListNode(-1)\n",
    "    node = dummy\n",
    "    for item in input:\n",
    "        temp = ListNode(item)\n",
    "        node.next = temp\n",
    "        node = node.next\n",
    "    return dummy.next"
   ]
  },
  {
   "cell_type": "markdown",
   "metadata": {},
   "source": [
    "## 2.1 Remove Dups"
   ]
  },
  {
   "cell_type": "code",
   "execution_count": 31,
   "metadata": {},
   "outputs": [
    {
     "name": "stdout",
     "output_type": "stream",
     "text": [
      "5 -> 2 -> 3 -> 3 -> 2 -> 1 -> 6 -> None\n",
      "5 -> 2 -> 3 -> 1 -> 6 -> None\n",
      "5 -> 2 -> 3 -> 1 -> 6 -> None\n",
      "5 -> 2 -> 3 -> 1 -> 6 -> None\n"
     ]
    }
   ],
   "source": [
    "# Naive Solution (O(N ^ 2))\n",
    "def removeDups(head):\n",
    "    if not head:\n",
    "        return\n",
    "    \n",
    "    node = head\n",
    "    targetHead = targetTail = ListNode(node.val)\n",
    "    while node:\n",
    "        \n",
    "        target = targetHead\n",
    "        found = False\n",
    "        while target:\n",
    "            if target.val == node.val:\n",
    "                found = True\n",
    "                break\n",
    "            target = target.next\n",
    "        if not found:\n",
    "            targetTail.next = ListNode(node.val)\n",
    "            targetTail = targetTail.next\n",
    "        \n",
    "        node = node.next\n",
    "\n",
    "    return targetHead\n",
    "\n",
    "# Temp Buffer - Time O(N) and Space O(N)\n",
    "def removeDupsV1(head):\n",
    "    if not head:\n",
    "        return\n",
    "    \n",
    "    seen = set()\n",
    "    \n",
    "    node = head\n",
    "    seen.add(node.val)\n",
    "    prev = None\n",
    "    \n",
    "    while node:\n",
    "        if prev and node.val in seen:\n",
    "            prev.next = node.next\n",
    "        else:\n",
    "            seen.add(node.val)\n",
    "            prev = node\n",
    "        node = node.next\n",
    "    return head\n",
    "\n",
    "# Runner \n",
    "def removeDupsV2(head):\n",
    "    \n",
    "    current = head\n",
    "    while current:\n",
    "        runner = current\n",
    "        while runner.next:\n",
    "            if runner.next.val == current.val:\n",
    "                runner.next = runner.next.next\n",
    "            else:\n",
    "                runner = runner.next\n",
    "        current = current.next\n",
    "    \n",
    "    return head\n",
    "\n",
    "    \n",
    "list = buildList([5, 2, 3, 3, 2, 1, 6])\n",
    "print(list)\n",
    "result = removeDups(list)\n",
    "print(result)\n",
    "result = removeDupsV1(list)\n",
    "print(result)\n",
    "result = removeDupsV2(list)\n",
    "print(result)"
   ]
  },
  {
   "cell_type": "markdown",
   "metadata": {},
   "source": [
    "## 2.2 Return kth to Last"
   ]
  },
  {
   "cell_type": "code",
   "execution_count": 36,
   "metadata": {},
   "outputs": [
    {
     "name": "stdout",
     "output_type": "stream",
     "text": [
      "5 -> 2 -> 3 -> 3 -> 2 -> 1 -> 6 -> None\n",
      "1 -> 6 -> None\n",
      "3 -> 2 -> 1 -> 6 -> None\n"
     ]
    }
   ],
   "source": [
    "def kthToLast(head, k):\n",
    "    if not head:\n",
    "        return -1\n",
    "    \n",
    "    runner = head\n",
    "    for i in range(k):\n",
    "        if not runner:\n",
    "            break\n",
    "        runner = runner.next\n",
    "        \n",
    "    if not runner:\n",
    "        return -1\n",
    "    \n",
    "    node = head\n",
    "    while runner:\n",
    "        node = node.next\n",
    "        runner = runner.next\n",
    "        \n",
    "    return node\n",
    "\n",
    "list = buildList([5, 2, 3, 3, 2, 1, 6])\n",
    "print(list)\n",
    "print(kthToLast(list, 2))\n",
    "print(kthToLast(list, 4))\n"
   ]
  },
  {
   "cell_type": "markdown",
   "metadata": {},
   "source": [
    "## 2.3 Delete Middle Node\n"
   ]
  },
  {
   "cell_type": "code",
   "execution_count": 33,
   "metadata": {},
   "outputs": [
    {
     "name": "stdout",
     "output_type": "stream",
     "text": [
      "5 -> 2 -> 3 -> 3 -> 2 -> 1 -> 6 -> None\n",
      "3 -> 3 -> 2 -> 1 -> 6 -> None\n",
      "5 -> 2 -> 3 -> 2 -> 1 -> 6 -> None\n"
     ]
    }
   ],
   "source": [
    "def deleteMiddleNode(node):\n",
    "    if not node and node.next:\n",
    "        return\n",
    "    \n",
    "    node.val = node.next.val\n",
    "    node.next = node.next.next\n",
    "    \n",
    "    \n",
    "list = buildList([5, 2, 3, 3, 2, 1, 6])\n",
    "print(list)\n",
    "nodeToDelete = list.next.next\n",
    "print(nodeToDelete)\n",
    "deleteMiddleNode(nodeToDelete)\n",
    "print(list)"
   ]
  },
  {
   "cell_type": "markdown",
   "metadata": {},
   "source": [
    "## 2.4 Partition"
   ]
  },
  {
   "cell_type": "code",
   "execution_count": 43,
   "metadata": {},
   "outputs": [
    {
     "name": "stdout",
     "output_type": "stream",
     "text": [
      "3 -> 5 -> 8 -> 5 -> 10 -> 2 -> 1 -> None\n",
      "3 -> 2 -> 1 -> 5 -> 8 -> 5 -> 10 -> None\n"
     ]
    }
   ],
   "source": [
    "def partitionStable(node, val):\n",
    "    beforeStart, beforeEnd = None, None\n",
    "    afterStart, afterEnd = None, None\n",
    "    \n",
    "    while node:\n",
    "        next = node.next\n",
    "        node.next = None\n",
    "        \n",
    "        if node.val < val:\n",
    "            if not beforeStart:\n",
    "                beforeStart = node\n",
    "                beforeEnd = beforeStart\n",
    "            else:\n",
    "                beforeEnd.next = node\n",
    "                beforeEnd = node\n",
    "        else:\n",
    "            if not afterStart:\n",
    "                afterStart = node\n",
    "                afterEnd = afterStart\n",
    "            else:\n",
    "                afterEnd.next = node\n",
    "                afterEnd = node\n",
    "                \n",
    "        node = next\n",
    "        \n",
    "    if not beforeStart:\n",
    "        return afterStart\n",
    "    \n",
    "    beforeEnd.next = afterStart\n",
    "    return beforeStart\n",
    "\n",
    "def partitionNotStable(node, val):\n",
    "    \n",
    "    head = node\n",
    "    tail = node\n",
    "    \n",
    "    while node:\n",
    "        next = node.next\n",
    "        if node.val < val:\n",
    "            node.next = head\n",
    "            head = node\n",
    "        else:\n",
    "            tail.next = node\n",
    "            tail = node\n",
    "        node = next\n",
    "\n",
    "    tail.next = None\n",
    "    return head\n",
    "\n",
    "list = buildList([3, 5, 8, 5, 10, 2, 1])\n",
    "print(list)\n",
    "print(partitionStable(list, 5))"
   ]
  },
  {
   "cell_type": "markdown",
   "metadata": {},
   "source": [
    "## 2.5 Sum Lists"
   ]
  },
  {
   "cell_type": "code",
   "execution_count": 50,
   "metadata": {},
   "outputs": [
    {
     "name": "stdout",
     "output_type": "stream",
     "text": [
      "2 -> 1 -> 9 -> None\n",
      "1 -> 3 -> 0 -> 8 -> None\n"
     ]
    }
   ],
   "source": [
    "def sumListInReverseOrder(list1, list2):\n",
    "    \n",
    "    result = ListNode(-1)\n",
    "    curr = result\n",
    "    carry = 0\n",
    "    \n",
    "    while list1 or list2:\n",
    "        \n",
    "        sum = carry\n",
    "        if list1:\n",
    "            sum += list1.val\n",
    "            list1 = list1.next\n",
    "            \n",
    "        if list2:\n",
    "            sum += list2.val\n",
    "            list2 = list2.next\n",
    "            \n",
    "        carry, rem = divmod(sum, 10)\n",
    "        curr.next = ListNode(rem)\n",
    "        curr = curr.next\n",
    "        \n",
    "    if carry:\n",
    "        curr.nenxt = ListNode(carry)\n",
    "        \n",
    "    return result.next\n",
    "\n",
    "def sumList(list1, list2):\n",
    "    num1 = 0\n",
    "    while list1:\n",
    "        num1 = num1 * 10 + list1.val\n",
    "        list1 = list1.next\n",
    "        \n",
    "    num2 = 0\n",
    "    while list2:\n",
    "        num2 = num2 * 10 + list2.val\n",
    "        list2 = list2.next\n",
    "        \n",
    "    prev =  curr = None\n",
    "\n",
    "    sum = num1 + num2\n",
    "    while sum:\n",
    "        rem = sum % 10\n",
    "        curr = ListNode(rem)\n",
    "        if not prev:\n",
    "            prev = curr\n",
    "        else:\n",
    "            curr.next = prev\n",
    "        prev = curr\n",
    "        sum = sum // 10\n",
    "    \n",
    "    return curr\n",
    "\n",
    "num1 = buildList([7, 1, 6])\n",
    "num2 = buildList([5, 9, 2])\n",
    "print(sumListInReverseOrder(num1, num2))\n",
    "print(sumList(num1, num2))"
   ]
  },
  {
   "cell_type": "markdown",
   "metadata": {},
   "source": [
    "## 2.6 Palindrome"
   ]
  },
  {
   "cell_type": "code",
   "execution_count": 53,
   "metadata": {},
   "outputs": [
    {
     "name": "stdout",
     "output_type": "stream",
     "text": [
      "False\n",
      "True\n",
      "True\n"
     ]
    }
   ],
   "source": [
    "def isPalindrome(head):\n",
    "    if not head:\n",
    "        return False\n",
    "    \n",
    "    slow = head\n",
    "    fast = head\n",
    "    stack = []\n",
    "    \n",
    "    while fast and fast.next:\n",
    "        stack.append(slow.val)\n",
    "        slow = slow.next\n",
    "        fast = fast.next.next\n",
    "\n",
    "    if fast:\n",
    "        slow = slow.next\n",
    "        \n",
    "    while slow:\n",
    "        val = stack.pop()\n",
    "        if val != slow.val:\n",
    "            return False\n",
    "        slow = slow.next\n",
    "        \n",
    "    return True\n",
    "    \n",
    "print(isPalindrome(buildList([1, 2])))\n",
    "print(isPalindrome(buildList([1, 2, 1])))\n",
    "print(isPalindrome(buildList([1, 2, 2, 1])))"
   ]
  },
  {
   "cell_type": "markdown",
   "metadata": {},
   "source": [
    "## 2.7 Intersection"
   ]
  },
  {
   "cell_type": "code",
   "execution_count": 63,
   "metadata": {},
   "outputs": [
    {
     "name": "stdout",
     "output_type": "stream",
     "text": [
      "9 -> 7 -> 2 -> 1 -> None\n",
      "9 -> 7 -> 2 -> 1 -> None\n"
     ]
    }
   ],
   "source": [
    "# Time O(M+N) Space O(M)\n",
    "def getIntersection(list1, list2):\n",
    "    \n",
    "    seen = set()\n",
    "    while list1:\n",
    "        seen.add(list1)\n",
    "        list1 = list1.next\n",
    "        \n",
    "    while list2:\n",
    "        if list2 in seen:\n",
    "            return list2\n",
    "        list2 = list2.next\n",
    "        \n",
    "    return None\n",
    "\n",
    "# Time O(M+N) Space O(1)\n",
    "def getIntersectionV2(list1, list2):\n",
    "    '''\n",
    "    1. Get length of each list and tails\n",
    "    2. Compare tails if not same, return None\n",
    "    3. Start from begining of each list, advance longer list by diff in length\n",
    "    4. traverse each list until pointers are same\n",
    "    '''\n",
    "\n",
    "    def getKthNode(head, k):\n",
    "        node = head\n",
    "        while node:\n",
    "            if k == 0:\n",
    "                return node\n",
    "            node = node.next\n",
    "            k -=1\n",
    "        return None\n",
    "    \n",
    "    def getTailAndSize(head):\n",
    "        count = 1\n",
    "        while head.next:\n",
    "            count += 1\n",
    "            head = head.next\n",
    "        return (head, count)\n",
    "    \n",
    "    if not list1 or not list2:\n",
    "        return None\n",
    "    \n",
    "    tail1, list1_size = getTailAndSize(list1)\n",
    "    tail2, list2_size = getTailAndSize(list2)\n",
    "    \n",
    "    if tail1 != tail2:\n",
    "        return None\n",
    "    \n",
    "    longer = list1 if list1_size > list2_size else list2\n",
    "    shorter = list1 if list1_size < list2_size else list2\n",
    "    \n",
    "    longer = getKthNode(longer, abs(list1_size - list2_size))\n",
    "    if not longer:\n",
    "        return None\n",
    "    \n",
    "    while longer != shorter:\n",
    "        longer = longer.next\n",
    "        shorter = shorter.next\n",
    "        \n",
    "    return longer\n",
    "    \n",
    "    \n",
    "\n",
    "list1 = buildList([3, 1, 5, 9, 7, 2, 1])\n",
    "list2 = buildList([4, 6])\n",
    "list2.next.next = list1.next.next.next\n",
    "print(getIntersection(list1, list2))\n",
    "print(getIntersectionV2(list1, list2))"
   ]
  },
  {
   "cell_type": "markdown",
   "metadata": {},
   "source": [
    "## 2.8 Loop Detection"
   ]
  },
  {
   "cell_type": "code",
   "execution_count": 74,
   "metadata": {},
   "outputs": [
    {
     "name": "stdout",
     "output_type": "stream",
     "text": [
      "C\n",
      "C\n",
      "None\n",
      "None\n"
     ]
    }
   ],
   "source": [
    "def hasLoop(node):\n",
    "    \n",
    "    seen = set()\n",
    "    while node:\n",
    "        if node in seen:\n",
    "            return node\n",
    "        else:\n",
    "            seen.add(node)\n",
    "            node = node.next\n",
    "            \n",
    "    return None\n",
    "\n",
    "def hasLoopV1(head):\n",
    "    '''\n",
    "    1. Using two pointers, find a meeting point\n",
    "    2. FastPointer will be k steps ahead\n",
    "    3. Reset slow to head of list and move each pointer one step at a time until they eventually\n",
    "       meet at the front of the loop\n",
    "    '''\n",
    "    slow = head\n",
    "    fast = head\n",
    "    \n",
    "    while fast and fast.next:\n",
    "        slow = slow.next\n",
    "        fast = fast.next.next\n",
    "        if slow == fast:\n",
    "            break\n",
    "            \n",
    "    if not fast or not fast.next:\n",
    "        return None\n",
    "    \n",
    "    slow = head\n",
    "    \n",
    "    while slow != fast:\n",
    "        slow = slow.next\n",
    "        fast = fast.next\n",
    "        \n",
    "    return fast\n",
    "\n",
    "list1 = buildList(['A', 'B', 'C', 'D', 'E'])\n",
    "list1.next.next.next.next = list1.next.next\n",
    "result = hasLoop(list1)\n",
    "print(result.val if result else None)\n",
    "result = hasLoopV1(list1)\n",
    "print(result.val if result else None)\n",
    "list1 = buildList(['A', 'B', 'C', 'D', 'E'])\n",
    "result = hasLoop(list1)\n",
    "print(result.val if result else None)\n",
    "result = hasLoopV1(list1)\n",
    "print(result.val if result else None)"
   ]
  },
  {
   "cell_type": "code",
   "execution_count": null,
   "metadata": {},
   "outputs": [],
   "source": []
  }
 ],
 "metadata": {
  "kernelspec": {
   "display_name": "Python 3",
   "language": "python",
   "name": "python3"
  },
  "language_info": {
   "codemirror_mode": {
    "name": "ipython",
    "version": 3
   },
   "file_extension": ".py",
   "mimetype": "text/x-python",
   "name": "python",
   "nbconvert_exporter": "python",
   "pygments_lexer": "ipython3",
   "version": "3.7.3"
  }
 },
 "nbformat": 4,
 "nbformat_minor": 4
}
